{
 "cells": [
  {
   "cell_type": "markdown",
   "id": "25b8d99e",
   "metadata": {},
   "source": [
    "![title.png](diag/title.png)"
   ]
  },
  {
   "cell_type": "markdown",
   "id": "96e040c0",
   "metadata": {},
   "source": [
    "The continuous advancement of technology paves the way for the progression we see in a lot of industries nowadays – from healthcare, transportation, and manufacturing, to name a few. If they are ideal or determinist is irrelevant to this discussion. In this blog, we take a look at manufacturing industries, explore the challenges they are facing, and experiment with today’s state-of-the-art machine learning and artificial intelligence technologies which we think can help with those challenges.\n",
    "\n",
    "In manufacturing industries, or any industry for that matter, quality assurance and control is one of the most vital parts of the process. It ensures that the goods, products, and/or services that go into stock and are delivered/provided to customers achieve the highest level of quality possible. Such quality is achieved by ensuring these deliverables meet a certain level of standard, and never go below a certain threshold. However, for manufacturing industries, ensuring such quality can be a challenging task because of four distinct reasons [(Zou, et. al., 2022)](https://www.ecva.net/papers/eccv_2022/papers_ECCV/papers/136900389.pdf).\n",
    "\n",
    "1. *Rarity.* In a production line, defects are rare to come by, which is both a good thing and a bad thing. It is a good thing because manufacturers want a high yield in terms of production. Defining what makes a good or a product bad, however, can be challenging as there are only a few to study from and associate patterns with.\n",
    "2. *Scale.* Rarity can be more daunting when coupled with the second challenge which is the usual size of these defects which can be as small as millimeters or microns.\n",
    "3. *Sensitivity.* The rarity and scale challenges make the manufacturing industry performance sensitive which requires highly accurate models to automate the defect detection process.\n",
    "4. *Spectrum.* The automation is also a challenge as manufacturing industries have a wide range of domains or tasks, spanning components of all sizes and of different quality requirements.\n",
    "\n",
    "These challenges pose a threat to the manufacturing industry, especially in the Philippines, where the industry is currently thriving. The semiconductor manufacturing industry in the Philippines has been silently dominating the country’s value of export. In 2022, 83% of the total export value from the country’s top commodity groups came from electronics products, beating out other minerals and other manufactured goods [(PSA, 2022)](https://psa.gov.ph/content/highlights-philippine-export-and-import-statistics-august-2022-preliminary). This was also a 40% jump in export value from the 2021 figures. Of these electronic products, 47.4% accounted for semiconductors, with an equivalent export value of 1.6 trillion pesos (or $28.7B) [(Statista, 2022)](https://www.statista.com/statistics/1264606/philippines-export-share-of-semiconductors). A simple miscalculation in quality equates to millions of pesos in losses which is not ideal for a business. Thus, it is imperative to create a system for early prediction and prevention of component defects in manufacturing processes."
   ]
  },
  {
   "cell_type": "markdown",
   "id": "4beb8934",
   "metadata": {},
   "source": [
    "<div style=\"background-color:#4a594f; padding: 1px;\"> </div>"
   ]
  },
  {
   "cell_type": "markdown",
   "id": "05bd2e2a",
   "metadata": {},
   "source": [
    "<h1 style=\"background-color:#4a594f;color:#ffffff;padding:20px\">What We Wanted</h1>"
   ]
  },
  {
   "cell_type": "markdown",
   "id": "faeca3aa",
   "metadata": {},
   "source": [
    "But how exactly do we create such a system that can accurately detect anomalies and make such detection interpretable, and be a guide for corrective action for the quality process? The team believes that these challenges, in the same level of difficulties faced by everyday rustics and elites, can be solved by leveraging the use of machine learning and the advancement in artificial intelligence (AI) works. The problems of defect data rarity, the scale of these defects, required model accuracy, and the wide spectrum of domains can be answered by combining concepts of advanced data mining, deep learning techniques, and explainable AI which can be used in the quality management of manufacturing industries."
   ]
  },
  {
   "cell_type": "markdown",
   "id": "de83629c",
   "metadata": {},
   "source": [
    "<span style=\"color:#4a594f; font-size:18px\"><i>Advanced Data Mining</i></span>"
   ]
  },
  {
   "cell_type": "markdown",
   "id": "1df8bd6d",
   "metadata": {},
   "source": [
    "One of the concepts under advanced data mining is outlier detection. What is an outlier? An outlier is a data point exemplifying significant deviations from usual patterns or expected behaviors. Such a concept can be applied to anomaly detection, identifying defects of an object, in this case, a manufacturing product, as an outlier from a set of determined normal patterns.\n",
    "\n",
    "The challenge in anomaly detection, a growing area of research in computer vision [(Gudovskiy, 2021)](https://arxiv.org/pdf/2107.12571.pdf), is almost aligned with those challenges faced by manufacturing industries such as anomalies usually being rare (rarity) and having a low probability to be acquired by sensors (scale). Thus, such limitations to the concept can be augmented by leveraging the use of deep learning techniques and explainable AI kits."
   ]
  },
  {
   "cell_type": "markdown",
   "id": "cdcea883",
   "metadata": {},
   "source": [
    "<span style=\"color:#4a594f; font-size:18px\"><i>Deep Learning and Explainable AI</i></span>"
   ]
  },
  {
   "cell_type": "markdown",
   "id": "037c9632",
   "metadata": {},
   "source": [
    "The team is working with a sponsor which experiences the same challenges if not more than the challenges presented. In line with their attempt to implement deep learning techniques to do anomaly detection on images, we did some research about these deep learning techniques that combine image classification, object recognition, and anomaly detection/segmentation. Some of the techniques we have seen are unsupervised anomaly detection and localization models such as Patch Distribution Model (PaDiM) and Conditional Normalizing Flows for Anomaly Detection (CFLOW-AD)."
   ]
  },
  {
   "cell_type": "markdown",
   "id": "afdb94ff",
   "metadata": {},
   "source": [
    "<span style=\"background-color:#4a594f; color:#ffffff; font-size:15px; padding:10px\"><i>PaDiM</i></span>"
   ]
  },
  {
   "cell_type": "markdown",
   "id": "cd9e65d6",
   "metadata": {},
   "source": [
    "This is a ranking-based framework that concurrently detects and localizes anomalies in images in a one-class learning setting. It consists of two properties: (1) *patch embedding*, which is determined using a pre-trained convolutional neural network (CNN), and (2) *probabilistic representation of the normal class*, which is calculated using multivariate Gaussian distributions [(Defard, et. al, 2020)](https://arxiv.org/pdf/2011.08785.pdf). This means the framework has two steps in aiding anomaly detection and localization namely embedding extraction and learning of the normality."
   ]
  },
  {
   "cell_type": "markdown",
   "id": "21e15dec",
   "metadata": {},
   "source": [
    "![padim.png](diag/padim.png)\n",
    "<div>\n",
    "    <p style=\"font-size:10px;font-style:default;text-align:center\">\n",
    "        <b>Image 1. Overview of PaDiM.</b><br>\n",
    "    </p>\n",
    "</div>"
   ]
  },
  {
   "cell_type": "markdown",
   "id": "73179228",
   "metadata": {},
   "source": [
    "The diagram, lifted from the [Defard, et. al. study (2020)](https://arxiv.org/pdf/2011.08785.pdf), provides an overview of the PaDiM mechanism. The proponents describe the mechanism as follows:\n",
    "> For each image patch corresponding to a position in the largest CNN feature map, PaDiM learns the Gaussian parameters from the set of N training embedding vectors, computed from N different training images and three different pre-trained CNN layers."
   ]
  },
  {
   "cell_type": "markdown",
   "id": "52c047f5",
   "metadata": {},
   "source": [
    "<span style=\"background-color:#4a594f; color:#ffffff; font-size:15px; padding:10px\"><i>CFLOW-AD</i></span>"
   ]
  },
  {
   "cell_type": "markdown",
   "id": "e3397259",
   "metadata": {},
   "source": [
    "This is a real-time model based on conditional normalizing flow framework adopted for anomaly detection with localization [(Gudovskiy, 2021)](https://arxiv.org/pdf/2107.12571.pdf). This model also consists of two properties: (1) *feature extraction* through a CNN encoder mechanism and (2) *likelihood estimation* through a conditional normalizing flow network decoder."
   ]
  },
  {
   "cell_type": "markdown",
   "id": "b58e3291",
   "metadata": {},
   "source": [
    "![cflow.png](diag/cflow.png)\n",
    "<div>\n",
    "    <p style=\"font-size:10px;font-style:default;text-align:center\">\n",
    "        <b>Image 2. Overview of CFLOW-AD.</b><br>\n",
    "    </p>\n",
    "</div>"
   ]
  },
  {
   "cell_type": "markdown",
   "id": "9b4bb2bc",
   "metadata": {},
   "source": [
    "The diagram, lifted from the [Gudovskiy, et. al. study (2021)](https://arxiv.org/pdf/2107.12571.pdf), provides an overview of the CFLOW-AD mechanism. The proponents describe the mechanism as follows:\n",
    "> The encoder is a CNN feature extractor with multi-scale pyramid pooling, which capture both global and local semantic information with the growing top-to-bottom receptive fields. Pooled feature vectors are processed by a set of decoders independently for each k-th scale. The decoder is a conditional normalizing flow network with a feature input and a conditional input, with spatial information form a positional encoder. The estimated multi-scale likelihoods are unsampled to the input size and added up to produce anomaly map."
   ]
  },
  {
   "cell_type": "markdown",
   "id": "6ad00993",
   "metadata": {},
   "source": [
    "Both of these models are trained through ResNet-18, an 18-layer residual learning network [(He, et. al., 2015)](https://arxiv.org/pdf/1512.03385v1.pdf) [(Abhishek, 2022)](https://ijcrt.org/papers/IJCRT2205235.pdf), which learns residual functions with reference to the layer inputs. If you want to read more about PaDiM and CFLOW-AD, and the ResNet-18 backbone to be used in this study, you can access the following papers through these links: [PaDiM](https://arxiv.org/pdf/2011.08785.pdf), [CFLOW-AD](https://arxiv.org/pdf/2107.12571.pdf), and [ResNet](https://ijcrt.org/papers/IJCRT2205235.pdf)."
   ]
  },
  {
   "cell_type": "markdown",
   "id": "b8bfdf02",
   "metadata": {},
   "source": [
    "<span style=\"background-color:#4a594f; color:#ffffff; font-size:15px; padding:10px\"><i>OpenVino</i></span>"
   ]
  },
  {
   "cell_type": "markdown",
   "id": "85cb1376",
   "metadata": {},
   "source": [
    "In addition to the above models, one other model that can aid through the interpretability of anomaly detection is Open Visual Inference and Neural Network Optimization (OpenVINO), which focuses on optimizing neural network inferences [(Meel, n.d.)](https://viso.ai/computer-vision/intel-openvino-toolkit-overview/).\n",
    "\n",
    "These three models are included in Anomalib, a library for benchmarking, developing, and deploying deep-learning anomaly detection algorithms. It is a deep learning library that aims to collect anomaly detection algorithms for benchmarking on various datasets, providing ready-to-use implementations of anomaly detection algorithms as referred from their literature of origin [(Github, n.d.)](https://github.com/openvinotoolkit/anomalib) used primarily for experiment management, hyperparameter optimization, and edge inference."
   ]
  },
  {
   "cell_type": "markdown",
   "id": "4e8eb8a9",
   "metadata": {},
   "source": [
    "Getting started with `anomalib` by using `pip install`:"
   ]
  },
  {
   "cell_type": "markdown",
   "id": "a31656c4",
   "metadata": {},
   "source": [
    "```python\n",
    "pip install anomalib\n",
    "```"
   ]
  },
  {
   "cell_type": "markdown",
   "id": "4b97b374",
   "metadata": {},
   "source": [
    "Importing pertinent libraries such `anomalib` to get started:"
   ]
  },
  {
   "cell_type": "markdown",
   "id": "7c6fee3c",
   "metadata": {},
   "source": [
    "```python\n",
    "from pathlib import Path\n",
    "\n",
    "from anomalib.data.utils import read_image\n",
    "from anomalib.deploy import OpenVINOInferencer\n",
    "from pytorch_lightning import Trainer\n",
    "from pytorch_lightning.callbacks import ModelCheckpoint\n",
    "\n",
    "import os\n",
    "from PIL import Image\n",
    "```"
   ]
  },
  {
   "cell_type": "markdown",
   "id": "94076bfa",
   "metadata": {},
   "source": [
    "<div style=\"background-color:#4a594f; padding: 1px;\"> </div>"
   ]
  },
  {
   "cell_type": "markdown",
   "id": "c83e1855",
   "metadata": {},
   "source": [
    "<h1 style=\"background-color:#4a594f;color:#ffffff;padding:20px\">What We Did</h1>"
   ]
  },
  {
   "cell_type": "markdown",
   "id": "d6f7ef9b",
   "metadata": {},
   "source": [
    "In order to test our hypothesis, the team experimented on the two aforementioned models and the inference model to a dataset of images, evaluated the results, and finally compared them to the results from the [Zou, et. al. study (2022)](https://www.ecva.net/papers/eccv_2022/papers_ECCV/papers/136900389.pdf). An overview of the steps is shown below, which include data collection, data preparation, feature extraction, model training, model evaluation, and inference."
   ]
  },
  {
   "cell_type": "markdown",
   "id": "b5308e7b",
   "metadata": {},
   "source": [
    "![method.png](diag/method.png)\n",
    "<div>\n",
    "    <p style=\"font-size:10px;font-style:default;text-align:center\">\n",
    "        <b>Image 3. Project Methodology Overview.</b><br>\n",
    "    </p>\n",
    "</div>"
   ]
  },
  {
   "cell_type": "markdown",
   "id": "b6290abb",
   "metadata": {},
   "source": [
    "<span style=\"color:#4a594f; font-size:18px\"><i>Data Collection</i></span>"
   ]
  },
  {
   "cell_type": "markdown",
   "id": "e17a7e06",
   "metadata": {},
   "source": [
    "The dataset used for this experiment is the Visual Anomaly (VisA) dataset, which was an original curation of [Zou et. al. (2022)](https://www.ecva.net/papers/eccv_2022/papers_ECCV/papers/136900389.pdf). VisA can also be retrieved from the [Registry of Open Data on Amazon Web Services (AWS)](https://registry.opendata.aws/visa/)."
   ]
  },
  {
   "cell_type": "markdown",
   "id": "78b13e48",
   "metadata": {},
   "source": [
    "```python\n",
    "s3://amazon-visual-anomaly/VisA_20220922.tar/\n",
    "```"
   ]
  },
  {
   "cell_type": "markdown",
   "id": "05b0f889",
   "metadata": {},
   "source": [
    "It is the largest visual anomaly detection dataset containing 12 classes in 3 domains, with around 10,821 images, 9,621 of which are normal images, and 1,200 anomalous. For this study, we selected six classes namely Cashew, Chewing Gum, Fryum, Macaroni (Macaroni 1), Printed Circuit Board (PCB) 1, and PCB 3 (which will be referred to hereinafter as PCB 2)."
   ]
  },
  {
   "cell_type": "markdown",
   "id": "0d86b958",
   "metadata": {},
   "source": [
    "![sample.png](diag/sample.png)\n",
    "<div>\n",
    "    <p style=\"font-size:10px;font-style:default;text-align:center\">\n",
    "        <b>Image 4. Sample Images of the Selected Subsets.</b><br>\n",
    "    </p>\n",
    "</div>"
   ]
  },
  {
   "cell_type": "markdown",
   "id": "5666946e",
   "metadata": {},
   "source": [
    "| Type | Object | Normal | Anomalous | Anomaly Classes |\n",
    "| :--: | :--: | :--: | :--: | :--: |\n",
    "| Single Instance | Cashew | 500 | 100 | 9 |\n",
    "|  | Chewing Gum | 503 | 100 | 6 |\n",
    "|  | Fryum | 500 | 100 | 8 |\n",
    "| Multiple Instances | Macaroni | 1,000 | 100 | 7 |\n",
    "| Complex Structure | PCB1 | 1,004 | 100 | 4 |\n",
    "|  | PCB2 | 1,006 | 100 | 4 |\n",
    "\n",
    "<div>\n",
    "    <p style=\"font-size:10px;font-style:default;text-align:center\">\n",
    "        <b>Table 1. Overview of the Selected VisA Subsets.</b>\n",
    "    </p>\n",
    "</div>"
   ]
  },
  {
   "cell_type": "markdown",
   "id": "f9a63f2d",
   "metadata": {},
   "source": [
    "The sample images show the different images for normal, anomalous, and the segmented anomaly for each of the selected object subsets. There are also three types of objects in this dataset: single instance and multiple instances, both simple structure, and the complex structure."
   ]
  },
  {
   "cell_type": "markdown",
   "id": "17de5053",
   "metadata": {},
   "source": [
    "<span style=\"color:#4a594f; font-size:18px\"><i>Data Preparation</i></span>"
   ]
  },
  {
   "cell_type": "markdown",
   "id": "403a591c",
   "metadata": {},
   "source": [
    "The dataset includes images in the Joint Photographic Experts Group (JPEG or JPG) format. However, since the models used in the project can only process images in the Portable Network Graphics (PNG) format, it is necessary to convert the images. The following codes are used to convert the images from JPEG to PNG for both normal and anomalous sets of images per subset."
   ]
  },
  {
   "cell_type": "markdown",
   "id": "a015bc07",
   "metadata": {},
   "source": [
    "```python\n",
    "source_directory = \"./cashew/Data/Images/Normal\"\n",
    "destination_directory = \"./cashew/normal_png/\"\n",
    "\n",
    "# Create the destination directory if it doesn't exist\n",
    "if not os.path.exists(destination_directory):\n",
    "    os.makedirs(destination_directory)\n",
    "\n",
    "# Iterate over the files in the source directory\n",
    "for filename in os.listdir(source_directory):\n",
    "    if filename.endswith(\".JPG\"):\n",
    "        # Open the image file\n",
    "        image_path = os.path.join(source_directory, filename)\n",
    "        image = Image.open(image_path)\n",
    "\n",
    "        # Convert and save the image as .png in the destination directory\n",
    "        new_filename = os.path.splitext(filename)[0] + \".png\"\n",
    "        destination_path = os.path.join(destination_directory, new_filename)\n",
    "        image.save(destination_path, \"PNG\")\n",
    "\n",
    "        print(f\"Converted {filename} to {new_filename} and saved to {destination_directory}\")\n",
    "```"
   ]
  },
  {
   "cell_type": "markdown",
   "id": "ce7122c6",
   "metadata": {},
   "source": [
    "```python\n",
    "source_directory = \"./cashew/Data/Images/Anomaly/\"\n",
    "destination_directory = \"./cashew/anomaly_png/\"\n",
    "\n",
    "# Create the destination directory if it doesn't exist\n",
    "if not os.path.exists(destination_directory):\n",
    "    os.makedirs(destination_directory)\n",
    "\n",
    "# Iterate over the files in the source directory\n",
    "for filename in os.listdir(source_directory):\n",
    "    if filename.endswith(\".JPG\"):\n",
    "        # Open the image file\n",
    "        image_path = os.path.join(source_directory, filename)\n",
    "        image = Image.open(image_path)\n",
    "\n",
    "        # Convert and save the image as .png in the destination directory\n",
    "        new_filename = os.path.splitext(filename)[0] + \".png\"\n",
    "        destination_path = os.path.join(destination_directory, new_filename)\n",
    "        image.save(destination_path, \"PNG\")\n",
    "\n",
    "        print(f\"Converted {filename} to {new_filename} and saved to {destination_directory}\")\n",
    "```"
   ]
  },
  {
   "cell_type": "markdown",
   "id": "de856fcb",
   "metadata": {},
   "source": [
    "After this, the images are resized to 256 x 256 pixels, before splitting the data into training (60%), validation (20%), and test (20%) sets in preparation for the model training. The following codes are used for the resize and then for the data split."
   ]
  },
  {
   "cell_type": "markdown",
   "id": "b00e399f",
   "metadata": {},
   "source": [
    "```python\n",
    "from anomalib.data.folder import Folder\n",
    "from anomalib.data.task_type import TaskType\n",
    "\n",
    "datamodule = Folder(\n",
    "    root=Path.cwd() / \"cashew\",\n",
    "    normal_dir=\"normal_png\",\n",
    "    abnormal_dir=\"anomaly_png\",\n",
    "    normal_split_ratio=0.2,\n",
    "    image_size=(256, 256),\n",
    "    train_batch_size=32,\n",
    "    eval_batch_size=32,\n",
    "    task=TaskType.CLASSIFICATION,\n",
    ")\n",
    "datamodule.setup()  # Split the data to train/val/test/prediction sets.\n",
    "datamodule.prepare_data()  # Create train/val/test/predic dataloaders\n",
    "\n",
    "i, data = next(enumerate(datamodule.val_dataloader()))\n",
    "print(data.keys())\n",
    "```"
   ]
  },
  {
   "cell_type": "markdown",
   "id": "72abcff4",
   "metadata": {},
   "source": [
    "```python\n",
    "# Check image size\n",
    "print(data[\"image\"].shape)\n",
    "```"
   ]
  },
  {
   "cell_type": "markdown",
   "id": "f6fe7144",
   "metadata": {},
   "source": [
    "<span style=\"color:#4a594f; font-size:18px\"><i>Feature Extraction</i></span>"
   ]
  },
  {
   "cell_type": "markdown",
   "id": "9833f17c",
   "metadata": {},
   "source": [
    "As mentioned earlier, the team prepared two models for this study: `Cflow` and `Padim`, having an expected input size of 256 x 256 images, backbone architecture of `resnet18`, and selected layers for feature extraction. Layers 1, 2, and 3 are selected to represent different levels of abstraction in the feature hierarchy of the backbone, to capture various levels of details in the input images. The creation of the instance of the models from the `anomalib.models` used the following code:"
   ]
  },
  {
   "cell_type": "markdown",
   "id": "f161a8b4",
   "metadata": {},
   "source": [
    "```python\n",
    "from anomalib.models import Cflow\n",
    "\n",
    "model = Cflow(\n",
    "    input_size=(256, 256),\n",
    "    backbone=\"resnet18\",\n",
    "    layers=[\"layer1\", \"layer2\", \"layer3\"],\n",
    ")\n",
    "```"
   ]
  },
  {
   "cell_type": "markdown",
   "id": "7f96fff2",
   "metadata": {},
   "source": [
    "A list of callbacks to be used for the anomaly detection task at hand is also defined in the following code snippet used for configuring metrics, checkpoint, post-processing, normalization, and export-to-inference options. `MetricsConfigurationCallback` configures the metrics for the model evaluation specifying Area Under the Receiver Operating Characteristic curve or AU-ROC, and Area Under the Precision-Recall curve or AU-PR.\n",
    "\n",
    "`ModelCheckpoint` saves the model’s weights during training such as the scores from the evaluation metric mentioned above. `PostProcessingConfigurationCallback` configures the post-processing methods to be used for anomaly detection, specifying the normalization method to be used as MinMax (also defined in the `MinMaxNormalizationCallback` and the threshold method as adaptive thresholding. Lastly, `ExportCallback` exports the trained model for inference specifying the expected input size, the directory path, and the export mode which is OpenVino (`OPENVINO`)."
   ]
  },
  {
   "cell_type": "markdown",
   "id": "3c648cd0",
   "metadata": {},
   "source": [
    "```python\n",
    "from anomalib.data.folder import Folder\n",
    "from anomalib.data.task_type import TaskType\n",
    "\n",
    "from anomalib.post_processing import NormalizationMethod, ThresholdMethod\n",
    "from anomalib.utils.callbacks import (\n",
    "    MetricsConfigurationCallback,\n",
    "    MinMaxNormalizationCallback,\n",
    "    PostProcessingConfigurationCallback,\n",
    ")\n",
    "from anomalib.utils.callbacks.export import ExportCallback, ExportMode\n",
    "\n",
    "callbacks = [\n",
    "    MetricsConfigurationCallback(\n",
    "        task=TaskType.CLASSIFICATION,\n",
    "        image_metrics=[\"AUROC\", \"AUPR\"]\n",
    "    ),\n",
    "    ModelCheckpoint(\n",
    "        mode=\"max\",\n",
    "        monitor=\"image_AUROC\",\n",
    "        \\\n",
    "    ),\n",
    "    PostProcessingConfigurationCallback(\n",
    "        normalization_method=NormalizationMethod.MIN_MAX,\n",
    "        threshold_method=ThresholdMethod.ADAPTIVE,\n",
    "    ),\n",
    "    MinMaxNormalizationCallback(),\n",
    "    ExportCallback(\n",
    "        input_size=(256, 256),\n",
    "        dirpath=str(Path.cwd()),\n",
    "        filename=\"model\",\n",
    "        export_mode=ExportMode.OPENVINO,\n",
    "    ),\n",
    "]\n",
    "```"
   ]
  },
  {
   "cell_type": "markdown",
   "id": "0812c449",
   "metadata": {},
   "source": [
    "<span style=\"color:#4a594f; font-size:18px\"><i>Model Training</i></span>"
   ]
  },
  {
   "cell_type": "markdown",
   "id": "7369992b",
   "metadata": {},
   "source": [
    "The model training comes next, using the following code snippets. The parameters include (1) `callbacks` which are defined in the preceding code snippet, (2) `accelerator` set to `auto`, automatically choosing the appropriate accelerator based on available hardware and system configuration, (3) `auto_scale_batch_size` set to `False` so the batch size is not automatically adjusted, (4) `check_val_every_n_epoch` set to 1, which means that validation step will be done every epoch, (5) `devices` set to `1`, which means the training will utilize a single device, (6) `gpus` set to `None`, meaning no GPUs will be utilized, (7) `max_epochs` set to `10`, which means the training will run to 10 epochs, (8) `num_sanity_val_steps` set to `0`, which means no validation step will be executed during sanity checks, and (9) `val_check_interval` set to `1.0`, which means a full validation check will be performed after every epoch."
   ]
  },
  {
   "cell_type": "markdown",
   "id": "8e12569b",
   "metadata": {},
   "source": [
    "```python\n",
    "trainer = Trainer(\n",
    "    callbacks=callbacks,\n",
    "    accelerator=\"auto\",\n",
    "    auto_scale_batch_size=False,\n",
    "    check_val_every_n_epoch=1,\n",
    "    devices=1,\n",
    "    gpus=None,\n",
    "    max_epochs=10,\n",
    "    num_sanity_val_steps=0,\n",
    "    val_check_interval=1.0,\n",
    ")\n",
    "trainer.fit(model=model, datamodule=datamodule)\n",
    "```"
   ]
  },
  {
   "cell_type": "markdown",
   "id": "47d1e3f8",
   "metadata": {},
   "source": [
    "`trainer.fit` starts the training process, with parameters `model` calling `model` as the instance `Cflow` and `datamodule` calling the `datamodule` as the input data folder."
   ]
  },
  {
   "cell_type": "markdown",
   "id": "e3c73d10",
   "metadata": {},
   "source": [
    "<span style=\"color:#4a594f; font-size:18px\"><i>Model Evaluation</i></span>"
   ]
  },
  {
   "cell_type": "markdown",
   "id": "e6247c69",
   "metadata": {},
   "source": [
    "As defined earlier, the metrics to be used for the evaluation of the models are AU-PR and AU-ROC. These are threshold-agnostic evaluation metrics used typically for anomaly detection and localization [(Defard, et. al., 2020)](https://arxiv.org/pdf/2011.08785.pdf) [(Gudovskiy, et. al, 2021)](https://arxiv.org/pdf/2107.12571.pdf) tasks.\n",
    "\n",
    "AU-PR measures the performance of the models based on precision and recall, and the AU-PR score summarizes the trade-off between precision and recall. The higher the score, the better the performance of the model (wherein a score of 1.0 indicates that the model can classify all positive samples without any false positives).\n",
    "\n",
    "AU-ROC, on the other hand, evaluates the performance of the models based on sensitivity and specificity, and the AU-ROC score summarizes the models' ability to distinguish between positive and negative samples. The higher the score, the better the performance of the model (wherein a score of 1.0 indicates that the model achieves 100% true positive rate or sensitivity).\n",
    "\n",
    "These are evaluated further against the scores from the [Zou, et. al. (2022)](https://www.ecva.net/papers/eccv_2022/papers_ECCV/papers/136900389.pdf) paper, which basically are the benchmark for our study. The following code snippet is used to determine the metric score for each of the model per object subset."
   ]
  },
  {
   "cell_type": "markdown",
   "id": "04eacd56",
   "metadata": {},
   "source": [
    "```python\n",
    "# Validation\n",
    "test_results = trainer.test(model=model, datamodule=datamodule)\n",
    "```"
   ]
  },
  {
   "cell_type": "markdown",
   "id": "bfe4d39f",
   "metadata": {},
   "source": [
    "The result from this evaluation determines how well or how accurately our models can predict anomalies from the input images, answering one of the two things we wanted to do."
   ]
  },
  {
   "cell_type": "markdown",
   "id": "701e4985",
   "metadata": {},
   "source": [
    "<span style=\"color:#4a594f; font-size:18px\"><i>Inference</i></span>"
   ]
  },
  {
   "cell_type": "markdown",
   "id": "53e478d2",
   "metadata": {},
   "source": [
    "Using `OPENVINO`, inference engineering is executed to visualize how well the model predicts anomaly on the test images. The following steps and their corresponding code snippets are done and executed to get the inference results."
   ]
  },
  {
   "cell_type": "markdown",
   "id": "8be97798",
   "metadata": {},
   "source": [
    "* Loading a test image:\n",
    "\n",
    "```python\n",
    "from matplotlib import pyplot as plt\n",
    "\n",
    "image_path = \"./cashew/anomaly_png/038.png\"\n",
    "image = read_image(path=\"./cashew/anomaly_png/038.png\")\n",
    "plt.imshow(image)\n",
    "```"
   ]
  },
  {
   "cell_type": "markdown",
   "id": "7a788410",
   "metadata": {},
   "source": [
    "* Loading the OpenVino model, creating an instance of the `OpenVINOInferencer` responsible for loading and running inference on OpenVino Intermediate Representation or IR model:\n",
    "\n",
    "```python\n",
    "openvino_model_path = Path.cwd() / \"weights\" / \"openvino\" / \"model.bin\"\n",
    "metadata_path = Path.cwd() / \"weights\" / \"openvino\" / \"metadata.json\"\n",
    "print(openvino_model_path.exists(), metadata_path.exists())\n",
    "```\n",
    "\n",
    "```python\n",
    "inferencer = OpenVINOInferencer(\n",
    "    path=openvino_model_path,  # Path to the OpenVINO IR model.\n",
    "    metadata=metadata_path,  # Path to the metadata file.\n",
    "    device=\"CPU\",  # We would like to run it on an Intel CPU.\n",
    ")\n",
    "```"
   ]
  },
  {
   "cell_type": "markdown",
   "id": "7a107ea7",
   "metadata": {},
   "source": [
    "* Performing inference, returning predicted outputs:\n",
    "\n",
    "```python\n",
    "print(image.shape)\n",
    "predictions = inferencer.predict(image=image)\n",
    "```"
   ]
  },
  {
   "cell_type": "markdown",
   "id": "27d47022",
   "metadata": {},
   "source": [
    "* Visualizing inference results, using the `Visualizer` class from `anomalib.post_processing` for a comprehensive visualization (`VisualizationMode.FULL`) and for two types of tasks namely classification and segmentation (`TaskType.CLASSIFICATION` and ‘TaskType.SEGMENTATION`, respectively):\n",
    "\n",
    "```python\n",
    "from anomalib.post_processing import Visualizer, VisualizationMode\n",
    "from PIL import Image\n",
    "\n",
    "visualizer = Visualizer(mode=VisualizationMode.FULL, task=TaskType.CLASSIFICATION)\n",
    "output_image = visualizer.visualize_image(predictions)\n",
    "Image.fromarray(output_image)\n",
    "```\n",
    "\n",
    "```python\n",
    "visualizer = Visualizer(mode=VisualizationMode.FULL, task=TaskType.SEGMENTATION)\n",
    "output_image = visualizer.visualize_image(predictions)\n",
    "Image.fromarray(output_image)\n",
    "```"
   ]
  },
  {
   "cell_type": "markdown",
   "id": "06fe2c62",
   "metadata": {},
   "source": [
    "The `Image.fromarray` method converts the assumed NumPy array representing the visualization result, to a Python Imaging Library or PIL image. The result from this inference determines how well or how accurately our models can segment anomalies from the input images, answering the second question of what we wanted to achieve."
   ]
  },
  {
   "cell_type": "markdown",
   "id": "dfd80d94",
   "metadata": {},
   "source": [
    "This entire methodology is done for both `Cflow` and `Padim`, and for each object subset selected: cashew, chewing gum, fryum, macaroni, and PCBs. All notebooks used for training and inference for all object subsets may be retrieved through this link ***(confirm if OneDrive or Github)***."
   ]
  },
  {
   "cell_type": "markdown",
   "id": "a7306b44",
   "metadata": {},
   "source": [
    "<div style=\"background-color:#4a594f; padding: 1px;\"> </div>"
   ]
  },
  {
   "cell_type": "markdown",
   "id": "0281e890",
   "metadata": {},
   "source": [
    "<h1 style=\"background-color:#4a594f;color:#ffffff;padding:20px\">What We Observed</h1>"
   ]
  },
  {
   "cell_type": "markdown",
   "id": "1120f59d",
   "metadata": {},
   "source": [
    "The proposed methodology for both `Cflow` and `Padim` yield desirable results, being able to classify/predict anomalous images and segment/visualize the anomalous areas within an object/component image. The following are the results for each of the selected object subsets."
   ]
  },
  {
   "cell_type": "markdown",
   "id": "807c5f7f",
   "metadata": {},
   "source": [
    "<span style=\"color:#4a594f; font-size:18px\"><i>Single Instance</i></span>"
   ]
  },
  {
   "cell_type": "markdown",
   "id": "5563e795",
   "metadata": {},
   "source": [
    "<span style=\"background-color:#4a594f; color:#ffffff; font-size:15px; padding:10px\"><i>Cashew</i></span>"
   ]
  },
  {
   "cell_type": "markdown",
   "id": "24adc0be",
   "metadata": {},
   "source": [
    "Who does not love to have a snack once in a while? If you are looking for a healthy snack, cashew nuts are one of your options. Cashew nuts are an important delicacy and confectionery, native from Brazil yet first introduced in India. These are a kidney- or heart-shaped seeds, with its color varying from bottle green to grayish brown, especially when already dried, and are a good source of bioactive compounds and proteins [(Kluckzkovski & Martins, 2016)](https://www.sciencedirect.com/science/article/abs/pii/B9780123849472001239).\n",
    "\n",
    "For this subset, we are looking for damages on the dried fruit which are manufactured as ready-to-eat snacks."
   ]
  },
  {
   "cell_type": "markdown",
   "id": "083b749f",
   "metadata": {},
   "source": [
    "![cashew_class.png](diag/cashew_class.png)\n",
    "<div>\n",
    "    <p style=\"font-size:10px;font-style:default;text-align:center\">\n",
    "        <b>Image 5. Results of Classification for Cashew.</b><br>\n",
    "    </p>\n",
    "</div>"
   ]
  },
  {
   "cell_type": "markdown",
   "id": "180d769a",
   "metadata": {},
   "source": [
    "`Cflow` and `Padim` gave fairly desirable results for the cashew subset, with the latter predicting Sample 3 (see Image 5) as 100% anomalous. Note that for the predicted heat map, the more red the area is, the more anomalous it is being predicted. This is applicable across all experiments on the different subsequent subsets."
   ]
  },
  {
   "cell_type": "markdown",
   "id": "72682992",
   "metadata": {},
   "source": [
    "![cashew_seg.png](diag/cashew_seg.png)\n",
    "<div>\n",
    "    <p style=\"font-size:10px;font-style:default;text-align:center\">\n",
    "        <b>Image 6. Results of Segmentation for Cashew.</b><br>\n",
    "    </p>\n",
    "</div>"
   ]
  },
  {
   "cell_type": "markdown",
   "id": "72c4bbc6",
   "metadata": {},
   "source": [
    "The segmentation results for both models for the cashew subset are also very good, correctly masking and segmenting the anomalous areas of the component at hand."
   ]
  },
  {
   "cell_type": "markdown",
   "id": "8ae68a68",
   "metadata": {},
   "source": [
    "| Metric | `Cflow` | `Padim` |\n",
    "| :--: | :--: | :--: |\n",
    "| AU-PR | 0.8858 | 0.8824 |\n",
    "| AU-ROC | 0.8804 | 0.8736 |\n",
    "\n",
    "<div>\n",
    "    <p style=\"font-size:10px;font-style:default;text-align:center\">\n",
    "        <b>Table 2. Model Evaluation for Cashew Subset.</b>\n",
    "    </p>\n",
    "</div>"
   ]
  },
  {
   "cell_type": "markdown",
   "id": "24ede462",
   "metadata": {},
   "source": [
    "`Cflow` slightly edges out `Padim` for the cashew subset, with `0.88` score for both AU-PR and AU-ROC metrics (see Table 2). Both models are able to classify the anomalous images fairly accurately."
   ]
  },
  {
   "cell_type": "markdown",
   "id": "ce2199e9",
   "metadata": {},
   "source": [
    "<span style=\"background-color:#4a594f; color:#ffffff; font-size:15px; padding:10px\"><i>Chewing Gum</i></span>"
   ]
  },
  {
   "cell_type": "markdown",
   "id": "173c5851",
   "metadata": {},
   "source": [
    "People often have the fixation to do something with their mouth. Eating, smoking, and drinking - all of these activities work the mouth into overdrive. One fix to this overdrive is the chewing gum. A chewing gum is a soft, rubbery substance designed for chewing. It is a candy made by mixing a gum base with sweeteners and flavorings [(West, 2023)](https://www.healthline.com/nutrition/chewing-gum-good-or-bad).\n",
    "\n",
    "For this subset, similar to the previous one, we are looking at damages to the surface of the gum. Often manufactured as a smooth, glistening item, defects on this component may be easily identified."
   ]
  },
  {
   "cell_type": "markdown",
   "id": "1085279d",
   "metadata": {},
   "source": [
    "![gum_class.png](diag/gum_class.png)\n",
    "<div>\n",
    "    <p style=\"font-size:10px;font-style:default;text-align:center\">\n",
    "        <b>Image 7. Results of Classification for Chewing Gum.</b><br>\n",
    "    </p>\n",
    "</div>"
   ]
  },
  {
   "cell_type": "markdown",
   "id": "53b11dd7",
   "metadata": {},
   "source": [
    "`Cflow` and `Padim` gave highly desirable results for the chewing gum subset, with the latter predicting Samples 1 and 3 (see Image 7) as 100% anomalous, with its heat map strongly identifying the anomalous areas."
   ]
  },
  {
   "cell_type": "markdown",
   "id": "0710cee6",
   "metadata": {},
   "source": [
    "![gum_seg.png](diag/gum_seg.png)\n",
    "<div>\n",
    "    <p style=\"font-size:10px;font-style:default;text-align:center\">\n",
    "        <b>Image 8. Results of Segmentation for Chewing Gum.</b><br>\n",
    "    </p>\n",
    "</div>"
   ]
  },
  {
   "cell_type": "markdown",
   "id": "972c3447",
   "metadata": {},
   "source": [
    "The segmentation results for both models on the chewing gum subset are highly expedient, with the predicted masks correctly identifying the anomalous areas of the component, resulting to the highly useful segmentation results for this subset."
   ]
  },
  {
   "cell_type": "markdown",
   "id": "28c7e42a",
   "metadata": {},
   "source": [
    "| Metric | `Cflow` | `Padim` |\n",
    "| :--: | :--: | :--: |\n",
    "| AU-PR | 0.9896 | 0.9985 |\n",
    "| AU-ROC | 0.9860 | 0.9984 |\n",
    "\n",
    "<div>\n",
    "    <p style=\"font-size:10px;font-style:default;text-align:center\">\n",
    "        <b>Table 3. Model Evaluation for Chewing Gum Subset.</b>\n",
    "    </p>\n",
    "</div>"
   ]
  },
  {
   "cell_type": "markdown",
   "id": "a9a75e37",
   "metadata": {},
   "source": [
    "Both models have approximated perfection for both evaluation metric, having a 0.99 AU-PR and AU-ROC scores (see Table 3). `Cflow` and `Padim` can classify anomalies in the chewing gum subset almost flawlessly."
   ]
  },
  {
   "cell_type": "markdown",
   "id": "57901834",
   "metadata": {},
   "source": [
    "<span style=\"background-color:#4a594f; color:#ffffff; font-size:15px; padding:10px\"><i>Fryum</i></span>"
   ]
  },
  {
   "cell_type": "markdown",
   "id": "d0bbbcd4",
   "metadata": {},
   "source": [
    "Continuing with our fixation with the overworking mouths, let us try to check the fryum subset. Fryums are small flakes that come in circular and star shapes made of rice, tapioca, and potato flour [(Lesson 11: Traditional Food Adjuncts, n.d.)](http://ecoursesonline.iasri.res.in/mod/page/view.php?id=19243). They are cooked through deep-fry and served as a crispy tea-time snack. Again, we love to snack, yes? It is up to you if you would consider this a healthy snack option.\n",
    "\n",
    "For this subset, we are looking for cracks or loose parts of the fryum shapes."
   ]
  },
  {
   "cell_type": "markdown",
   "id": "31781b68",
   "metadata": {},
   "source": [
    "![fryum_class.png](diag/fryum_class.png)\n",
    "<div>\n",
    "    <p style=\"font-size:10px;font-style:default;text-align:center\">\n",
    "        <b>Image 9. Results of Classification for Fryum.</b><br>\n",
    "    </p>\n",
    "</div>"
   ]
  },
  {
   "cell_type": "markdown",
   "id": "658c2c88",
   "metadata": {},
   "source": [
    "Both models, across all the samples examined, classified the anomalous images fairly well. Although, unlike in the previous subsets where `Padim` had identified some of the samples with 100% probability of being anomalous, the highest probability given in this subset is only at 79% (see Image 9)."
   ]
  },
  {
   "cell_type": "markdown",
   "id": "30d8879b",
   "metadata": {},
   "source": [
    "![fryum_seg.png](diag/fryum_seg.png)\n",
    "<div>\n",
    "    <p style=\"font-size:10px;font-style:default;text-align:center\">\n",
    "        <b>Image 10. Results of Segmentation for Fryum.</b><br>\n",
    "    </p>\n",
    "</div>"
   ]
  },
  {
   "cell_type": "markdown",
   "id": "89239c37",
   "metadata": {},
   "source": [
    "Similar to the preceding subsets, the segmentation results for both models on the fryum subset are still highly expedient, with the predicted masks correctly identifying the anomalous areas of the component."
   ]
  },
  {
   "cell_type": "markdown",
   "id": "d85d5bdc",
   "metadata": {},
   "source": [
    "| Metric | `Cflow` | `Padim` |\n",
    "| :--: | :--: | :--: |\n",
    "| AU-PR | 0.8256 | 0.9021 |\n",
    "| AU-ROC | 0.7644 | 0.8984 |\n",
    "\n",
    "<div>\n",
    "    <p style=\"font-size:10px;font-style:default;text-align:center\">\n",
    "        <b>Table 4. Model Evaluation for Fryum Subset.</b>\n",
    "    </p>\n",
    "</div>"
   ]
  },
  {
   "cell_type": "markdown",
   "id": "414ef220",
   "metadata": {},
   "source": [
    "`Padim` is the better model for the fryum subset, at its AU-PR and AU-ROC are nearer `1.0` at the `0.90` range (see Table 4). This means that for fryum subset, `Padim` can classify anomalous images and identify anomalous pixels more accurately than `Cflow`."
   ]
  },
  {
   "cell_type": "markdown",
   "id": "444a9ac8",
   "metadata": {},
   "source": [
    "<span style=\"color:#4a594f; font-size:18px\"><i>Multiple Instances</i></span>"
   ]
  },
  {
   "cell_type": "markdown",
   "id": "fb3e0341",
   "metadata": {},
   "source": [
    "<span style=\"background-color:#4a594f; color:#ffffff; font-size:15px; padding:10px\"><i>Macaroni</i></span>"
   ]
  },
  {
   "cell_type": "markdown",
   "id": "418a673b",
   "metadata": {},
   "source": [
    "Moving on to a main course, let us take a look at the macaroni subset. Derived from the Italian word *maccheroni*, most probably because of the pronunciation, macaroni is the name for various types of pasta shaped like a long or short tubes, with walls and central holes. It is often cooked in salted water, drained when *al dente*, and served with tomato-based sauces with meat or fish [(La Cucina Italiana, n.d.)](https://www.lacucinaitaliana.com/glossary/maccheroni-pasta?refresh_ce=).\n",
    "\n",
    "For this hunger-inducing subset, we are looking at raw macaronis and the damages in its surface, often a hole or a chip."
   ]
  },
  {
   "cell_type": "markdown",
   "id": "c1e53c06",
   "metadata": {},
   "source": [
    "![mac_class.png](diag/mac_class.png)\n",
    "<div>\n",
    "    <p style=\"font-size:10px;font-style:default;text-align:center\">\n",
    "        <b>Image 11. Results of Classification for Macaroni.</b><br>\n",
    "    </p>\n",
    "</div>"
   ]
  },
  {
   "cell_type": "markdown",
   "id": "716c3bf6",
   "metadata": {},
   "source": [
    "Similar to the preceding subsets, both models, across all the samples examined, classified the anomalous images fairly well, with `Padim` identifying Sample 1 as 100% anomalous (see Image 11)."
   ]
  },
  {
   "cell_type": "markdown",
   "id": "02b64e5d",
   "metadata": {},
   "source": [
    "![mac_seg.png](diag/mac_seg.png)\n",
    "<div>\n",
    "    <p style=\"font-size:10px;font-style:default;text-align:center\">\n",
    "        <b>Image 12. Results of Segmentation for Macaroni.</b><br>\n",
    "    </p>\n",
    "</div>"
   ]
  },
  {
   "cell_type": "markdown",
   "id": "8a6b220f",
   "metadata": {},
   "source": [
    "Similar to the preceding subsets, the segmentation results for both models on the macaroni subset are fairly good. The challenge here, however, is that there are multiple instances of the component in one image, and the defects are quite small. Both models and their predicted masks have identified these small defects well enough to have fair segmentation results."
   ]
  },
  {
   "cell_type": "markdown",
   "id": "7d3c1ea9",
   "metadata": {},
   "source": [
    "| Metric | `Cflow` | `Padim` |\n",
    "| :--: | :--: | :--: |\n",
    "| AU-PR | 0.6700 | 0.8021 |\n",
    "| AU-ROC | 0.7574 | 0.8676 |\n",
    "\n",
    "<div>\n",
    "    <p style=\"font-size:10px;font-style:default;text-align:center\">\n",
    "        <b>Table 5. Model Evaluation for Macaroni Subset.</b>\n",
    "    </p>\n",
    "</div>"
   ]
  },
  {
   "cell_type": "markdown",
   "id": "9697d769",
   "metadata": {},
   "source": [
    "Similar to the fryum subset, `Padim` is the better model with higher AU-PR and AU-ROC scores. However, the scores are now lower than the previous subsets. Nevertheless, `Padim` can still classify anomalous images and identify anomalous pixels more accurately in this subset than `Cflow`."
   ]
  },
  {
   "cell_type": "markdown",
   "id": "28b9dba5",
   "metadata": {},
   "source": [
    "<span style=\"color:#4a594f; font-size:18px\"><i>Complex Structure</i></span>"
   ]
  },
  {
   "cell_type": "markdown",
   "id": "6a0723ab",
   "metadata": {},
   "source": [
    "<span style=\"background-color:#4a594f; color:#ffffff; font-size:15px; padding:10px\"><i>PCB1</i></span>"
   ]
  },
  {
   "cell_type": "markdown",
   "id": "902f325c",
   "metadata": {},
   "source": [
    "Moving from the fixation of the mouth to the one of the core components in electronics, we take a look at printed circuit boards or PCBs. These are electronic assemblies that use copper conductors to create electrical connections between components [(Peterson, 2020)](https://resources.altium.com/p/what-is-a-pcb). They include a specific set of steps that aligns the purpose it will be used for.\n",
    "\n",
    "For this subset, we are looking at a number of components at once in an image. That is, there could be multiple defects in a single image of the PCB, and we want our models to detect all of these defects accurately."
   ]
  },
  {
   "cell_type": "markdown",
   "id": "8ddc3cc5",
   "metadata": {},
   "source": [
    "![pcb1_class.png](diag/pcb1_class.png)\n",
    "<div>\n",
    "    <p style=\"font-size:10px;font-style:default;text-align:center\">\n",
    "        <b>Image 13. Results of Classification for PCB 1.</b><br>\n",
    "    </p>\n",
    "</div>"
   ]
  },
  {
   "cell_type": "markdown",
   "id": "40dc45f4",
   "metadata": {},
   "source": [
    "Similar to the preceding subsets, both models, across all the samples examined, classified the anomalous images fairly well, with `Padim` identifying Sample 1 as 100% anomalous (see Image 13)."
   ]
  },
  {
   "cell_type": "markdown",
   "id": "8fd6f525",
   "metadata": {},
   "source": [
    "![pcb1_seg.png](diag/pcb1_seg.png)\n",
    "<div>\n",
    "    <p style=\"font-size:10px;font-style:default;text-align:center\">\n",
    "        <b>Image 14. Results of Segmentation for PCB 1.</b><br>\n",
    "    </p>\n",
    "</div>"
   ]
  },
  {
   "cell_type": "markdown",
   "id": "7e1e63f3",
   "metadata": {},
   "source": [
    "Similar to the preceding subsets, the segmentation results for both models on the PCB1 subset are fairly good. Again, the challenge here is detecting all of the defects in the PCB with its different components at once."
   ]
  },
  {
   "cell_type": "markdown",
   "id": "30be2d3e",
   "metadata": {},
   "source": [
    "| Metric | `Cflow` | `Padim` |\n",
    "| :--: | :--: | :--: |\n",
    "| AU-PR | 0.5951 | 0.7431 |\n",
    "| AU-ROC | 0.7222 | 0.8975 |\n",
    "\n",
    "<div>\n",
    "    <p style=\"font-size:10px;font-style:default;text-align:center\">\n",
    "        <b>Table 6. Model Evaluation for PCB 1 Subset.</b>\n",
    "    </p>\n",
    "</div>"
   ]
  },
  {
   "cell_type": "markdown",
   "id": "62424a52",
   "metadata": {},
   "source": [
    "`Padim` and `Cflow`, compared to the preceding subsets, performed their worst yet with the PCB1 subset. `Padim` still beats `Cflow` in terms of the model evaluation scores; that is, it is the better model to use for anomaly detection and localization for this subset as it can classify anomalous images more accurately than how `Cflow` can."
   ]
  },
  {
   "cell_type": "markdown",
   "id": "2e927542",
   "metadata": {},
   "source": [
    "<span style=\"background-color:#4a594f; color:#ffffff; font-size:15px; padding:10px\"><i>PCB2</i></span>"
   ]
  },
  {
   "cell_type": "markdown",
   "id": "0575abf0",
   "metadata": {},
   "source": [
    "We take a look at another subset of PCBs which the team deemed more complex given the number of components seen in a sample image."
   ]
  },
  {
   "cell_type": "markdown",
   "id": "0e12691b",
   "metadata": {},
   "source": [
    "![pcb2_class.png](diag/pcb2_class.png)\n",
    "<div>\n",
    "    <p style=\"font-size:10px;font-style:default;text-align:center\">\n",
    "        <b>Image 15. Results of Classification for PCB 2.</b><br>\n",
    "    </p>\n",
    "</div>"
   ]
  },
  {
   "cell_type": "markdown",
   "id": "73374910",
   "metadata": {},
   "source": [
    "The models have a hard time classifying the anomalous images in this subset, with `Padim` giving only as high as 79% probability to Sample 2. `Cflow` even classified Sample 3 as non-anomalous, at 50% probability of being a normal PCB (see Image 15). Note that these samples are taken from the test set, or the anomalous images set."
   ]
  },
  {
   "cell_type": "markdown",
   "id": "69ca75aa",
   "metadata": {},
   "source": [
    "![pcb2_seg.png](diag/pcb2_seg.png)\n",
    "<div>\n",
    "    <p style=\"font-size:10px;font-style:default;text-align:center\">\n",
    "        <b>Image 16. Results of Segmentation for PCB 2.</b><br>\n",
    "    </p>\n",
    "</div>"
   ]
  },
  {
   "cell_type": "markdown",
   "id": "3f29e17a",
   "metadata": {},
   "source": [
    "With the models having a hard time classifying the anomalous images, they also have a hard time identifying the correct areas or pixels in the image representative of the defect, with `Cflow` predicting no anomalies for Sample 3 (see Image 16)"
   ]
  },
  {
   "cell_type": "markdown",
   "id": "c0a76629",
   "metadata": {},
   "source": [
    "| Metric | `Cflow` | `Padim` |\n",
    "| :--: | :--: | :--: |\n",
    "| AU-PR | 0.4717 | 0.5665 |\n",
    "| AU-ROC | 0.6893 | 0.7452 |\n",
    "\n",
    "<div>\n",
    "    <p style=\"font-size:10px;font-style:default;text-align:center\">\n",
    "        <b>Table 7. Model Evaluation for PCB 2 Subset.</b>\n",
    "    </p>\n",
    "</div>"
   ]
  },
  {
   "cell_type": "markdown",
   "id": "d7ae9494",
   "metadata": {},
   "source": [
    "As expected, the model evaluation metric scores for this subset for both models are the worst. The best score is `0.75` AU-ROC for `Padim`, indicating less sensitivity of the model for this subset. `Cflow` having a `0.47` AU-PR score indicates there may be a higher false positives in its classification of the anomalous images."
   ]
  },
  {
   "cell_type": "markdown",
   "id": "63058605",
   "metadata": {},
   "source": [
    "<span style=\"color:#4a594f; font-size:18px\"><i>Overall Results</i></span>"
   ]
  },
  {
   "cell_type": "markdown",
   "id": "68e8bd1a",
   "metadata": {},
   "source": [
    "| Metric | `PaDiM` | `Cflow` | `SimSiam` | `MoCo` | `SimCLR` | \n",
    "| :--: | :--: | :--: | :--: | :--: | :--: |\n",
    "| AU-PR | 0.816 | 0.737 | 0.828 | <b>0.841</b> | 0.839 |\n",
    "| AU-ROC | <b>0.880</b> | 0.800 | 0.812 | 0.830 | 0.826 |\n",
    "\n",
    "<div>\n",
    "    <p style=\"font-size:10px;font-style:default;text-align:center\">\n",
    "        <b>Table 8. Comparison of Results with the Benchmark Models.</b>\n",
    "    </p>\n",
    "</div>"
   ]
  },
  {
   "cell_type": "markdown",
   "id": "0a89229a",
   "metadata": {},
   "source": [
    "Table 8 shows the average model evaluation scores of different models used for anomaly detection and localization. `Padim` and `Cflow` are part of our implementation, while `SimSiam`, `MoCo`, and `SimCLR` are from the `SPD` or SPot-the-Difference study by Zou, et. al. in 2022.\n",
    "\n",
    "In terms of the precision-recall curve, our implementation was not able to beat the benchmark, although `Padim` came close at `0.8` mark, the same range of the benchmarks. `Padim`, however, beats the benchmark in terms of sensitivity rate, having an AU-ROC score of `0.88`, a `0.05` difference from `MoCo`."
   ]
  },
  {
   "cell_type": "markdown",
   "id": "5ad4dd86",
   "metadata": {},
   "source": [
    "<h1 style=\"background-color:#4a594f;color:#ffffff;padding:20px\">What We Took Away</h1>"
   ]
  },
  {
   "cell_type": "markdown",
   "id": "39f61c13",
   "metadata": {},
   "source": [
    "Referring to Table 8, our overall implementation of `Padim` and `Cflow` are an effective implementation of anomaly detection and localization. The model evaluation metric scores are comparable to our set benchmark, with `Padim` beating out every model in terms of sensitivity rate. Hence, our implementation is as effective as, if not more effective than, the implementation of our benchmark models.\n",
    "\n",
    "Focusing on each of the subset, the team states that there is no one-model-fits-all for this anomaly detection task. With our experiment involving six out of the twelve subsets of the VisA dataset, we see how `Padim` and `Cflow`'s performances change for each subset. If we were to be asked then what the rule to thumb is in selecting the better model for a certain object, the team states that for simpler objects or components such as chewing gum and cashew, any of the models can be used and will provide fairly accurate results. For more complex objects, however, `Padim` is the better model to use as it exemplifies high sensivity across all subsets while maintaining high accuracy in terms of classifying anomalous images.\n",
    "\n",
    "The inference time for these models, for the size of the subsets, is quite fast. Thus, in terms of deployability, it is highly possible. However, note that the team trained the models for only ten epochs across all the selected subsets. This low number of epochs is due to the limitations of the machines used for training (our personal machines). Thus, in order to have more training epochs which can further improve the results of the study, the implementation of the models will require a higher investment, for instance, on machine requirements. The trade-off between computational efficiency and its cost is at play."
   ]
  },
  {
   "cell_type": "markdown",
   "id": "5b19e9d6",
   "metadata": {},
   "source": [
    "<span style=\"color:#4a594f; font-size:18px\"><i>Future Work</i></span>"
   ]
  },
  {
   "cell_type": "markdown",
   "id": "cb9e691c",
   "metadata": {},
   "source": [
    "For proponents looking for a project and interested in taking this to the next level, the team recommend to compare the anomaly detection performance of the models presented with reconstruction-based methods (mentioned in [Zou, et. al., 2022](https://www.ecva.net/papers/eccv_2022/papers_ECCV/papers/136900389.pdf)). As mentioned earlier as well, the team recommend to train the models further with a higher number of epochs which could give better results. Lastly, future works may also include the exploration of other XAI visual techniques to see if there are other inference engines that can be used for the localization tasks. The techniques to be explored may include integrated gradients and attention mechanisms."
   ]
  },
  {
   "cell_type": "markdown",
   "id": "beb4e8d3",
   "metadata": {},
   "source": [
    "<div style=\"background-color:#4a594f; padding: 1px;\"> </div>"
   ]
  },
  {
   "cell_type": "markdown",
   "id": "f8c2d50c",
   "metadata": {},
   "source": [
    "<span style=\"color:#4a594f; font-size:15px\"><b><i>References</i></b></span>"
   ]
  },
  {
   "cell_type": "markdown",
   "id": "99fa4609",
   "metadata": {},
   "source": [
    "Abhishek, A. V. S., et. al. (2022, May 5). Resnet18 Model With Sequential Layer For Computing Accuracy On Image Classification Dataset. <i>International Journal of Creative Research Thoughts, 10(5), 2320-2882.</i> https://ijcrt.org/papers/IJCRT2205235.pdf\n",
    "\n",
    "Amazon Web Services. (n.d.). <i>Visual Anomaly (VisA)</i>. https://registry.opendata.aws/visa/\n",
    "\n",
    "Defard, T., et. al. (2020, Nov 17). PaDiM: a Patch Distribution Modeling Framework for Anomaly Detection and Localization. https://arxiv.org/pdf/2011.08785.pdf\n",
    "\n",
    "Github. (n.d.). <i>Anomalib.</i> https://github.com/openvinotoolkit/anomalib\n",
    "\n",
    "Gudovskiy, D., et. al. (2021, Jul 27). CFLOW-AD: Real-Time Unsupervised Anomaly Detection with Localization via Conditional Normalizing Flows. https://arxiv.org/pdf/2107.12571.pdf\n",
    "\n",
    "He, K., et. al. (2015, Dec 10). Deep Residual Learning for Image Recognition. https://arxiv.org/pdf/1512.03385v1.pdf\n",
    "\n",
    "Kluczkovski, A. M. & Martins, M. (2016). Cashew Nuts. <i>Encyclopedia of Food and Health, 683-686.</i> https://doi.org/10.1016/B978-0-12-384947-2.00123-9\n",
    "\n",
    "La Cucina Italiana. (n.d.). <i>Glossary – Maccheroni pasta.</i> https://www.lacucinaitaliana.com/glossary/maccheroni-pasta?refresh_ce=\n",
    "\n",
    "Lesson 11: Traditional Food Adjuncts. (n.d.). Convenience and Health Foods 3 (1+2). https://www.healthline.com/nutrition/chewing-gum-good-or-bad\n",
    "\n",
    "Meel, V. (n.d.). What is OpenVINO? – The Ultimate Overview in 2023. <i>viso.ai</i>. https://viso.ai/computer-vision/intel-openvino-toolkit-overview/\n",
    "\n",
    "Peterson, Z. (2020, Oct 5). What is a PCB? <i>Altium.</i> https://resources.altium.com/p/what-is-a-pcb\n",
    "\n",
    "Philippine Statistics Authority (PSA). (2022, Oct 11). <i>Highlights of the Philippine Export and Import Statistics August 2022 (Preliminary)</i>. https://psa.gov.ph/content/highlights-philippine-export-and-import-statistics-august-2022-preliminary\n",
    "\n",
    "Statista Research Department. (2023, Mar 9). Export share of semiconductors Philippines 2020-2022. https://www.statista.com/statistics/1264606/philippines-export-share-of-semiconductors\n",
    "\n",
    "West, H. (2023, May 4). Chewing Gum: Good or Bad? <i>healthline</i>. https://www.healthline.com/nutrition/chewing-gum-good-or-bad\n",
    "\n",
    "Zou, Y., et. al. (2022, Jul 28). SPot-the-Difference Self-Supervised Pre-training for Anomaly Detection and Segmentation. https://www.ecva.net/papers/eccv_2022/papers_ECCV/papers/136900389.pdf\n",
    "\n",
    "---"
   ]
  },
  {
   "cell_type": "markdown",
   "id": "c83c3c2d",
   "metadata": {},
   "source": [
    "<span style=\"color:#4a594f; font-size:15px\"><b><i>Generative AI Documentation</i></b></span>\n",
    "\n",
    "ChatGPT aided the development of this notebook/blog post through the following:\n",
    "* annotation of the code used in the model training notebooks\n",
    "* initial brief definition of terms (e.g., JPEG, PNG, AU-PR, AU-ROC) before confirming with in-text references\n",
    "* improvement to the few statements (limited to one to two) within the blog post\n",
    "* markdown syntax confirmation"
   ]
  },
  {
   "cell_type": "markdown",
   "id": "caed9ee5",
   "metadata": {},
   "source": [
    "<div style=\"background-color:#4a594f; padding: 1px;\"> </div>"
   ]
  }
 ],
 "metadata": {
  "kernelspec": {
   "display_name": "Python 3 (ipykernel)",
   "language": "python",
   "name": "python3"
  },
  "language_info": {
   "codemirror_mode": {
    "name": "ipython",
    "version": 3
   },
   "file_extension": ".py",
   "mimetype": "text/x-python",
   "name": "python",
   "nbconvert_exporter": "python",
   "pygments_lexer": "ipython3",
   "version": "3.10.10"
  },
  "toc": {
   "base_numbering": 1,
   "nav_menu": {},
   "number_sections": true,
   "sideBar": true,
   "skip_h1_title": false,
   "title_cell": "Table of Contents",
   "title_sidebar": "Contents",
   "toc_cell": false,
   "toc_position": {},
   "toc_section_display": true,
   "toc_window_display": false
  }
 },
 "nbformat": 4,
 "nbformat_minor": 5
}
